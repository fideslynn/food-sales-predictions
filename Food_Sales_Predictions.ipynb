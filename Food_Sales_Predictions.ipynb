{
  "nbformat": 4,
  "nbformat_minor": 0,
  "metadata": {
    "colab": {
      "name": "Food Sales Predictions.ipynb",
      "provenance": [],
      "collapsed_sections": [],
      "mount_file_id": "1gZIWWDIHEWufz1dZyxO4_Sc6U4X4NrOP",
      "authorship_tag": "ABX9TyNHR/chLqgiqVyyKRf66ENn",
      "include_colab_link": true
    },
    "kernelspec": {
      "name": "python3",
      "display_name": "Python 3"
    },
    "language_info": {
      "name": "python"
    }
  },
  "cells": [
    {
      "cell_type": "markdown",
      "metadata": {
        "id": "view-in-github",
        "colab_type": "text"
      },
      "source": [
        "<a href=\"https://colab.research.google.com/github/fideslynn/food-sales-predictions/blob/main/Food_Sales_Predictions.ipynb\" target=\"_parent\"><img src=\"https://colab.research.google.com/assets/colab-badge.svg\" alt=\"Open In Colab\"/></a>"
      ]
    },
    {
      "cell_type": "code",
      "metadata": {
        "id": "0AY6rakxlxfv"
      },
      "source": [
        "import pandas as pd\n",
        "\n",
        "# This is the path to the csv file.\n",
        "filename = '/content/sales_predictions.csv'\n",
        "\n",
        "# To upload the file\n",
        "df = pd.read_csv(filename)\n",
        "\n",
        "# To check the first five rows of the file\n",
        "df.head()"
      ],
      "execution_count": null,
      "outputs": []
    }
  ]
}